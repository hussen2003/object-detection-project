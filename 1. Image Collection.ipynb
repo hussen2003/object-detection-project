{
 "cells": [
  {
   "cell_type": "markdown",
   "metadata": {},
   "source": [
    "# Getting images for training and testing"
   ]
  },
  {
   "cell_type": "code",
   "execution_count": 1,
   "metadata": {},
   "outputs": [],
   "source": [
    "import cv2\n",
    "import uuid\n",
    "import os\n",
    "import time"
   ]
  },
  {
   "cell_type": "code",
   "execution_count": 3,
   "metadata": {},
   "outputs": [],
   "source": [
    "labels = ['thumbsup', 'thumbsdown', 'handheart', 'ok']\n",
    "number_imgs = 10"
   ]
  },
  {
   "cell_type": "code",
   "execution_count": 4,
   "metadata": {},
   "outputs": [],
   "source": [
    "#setting up folders\n",
    "IMAGES_PATH = os.path.join('Tensorflow', 'workspace', 'images', 'collectedimages')  \n",
    "\n",
    "if not os.path.exists(IMAGES_PATH):\n",
    "    if os.name == 'nt': #windows\n",
    "         !mkdir {IMAGES_PATH}  \n",
    "for label in labels:\n",
    "    path = os.path.join(IMAGES_PATH, label)\n",
    "    if not os.path.exists(path):\n",
    "        !mkdir {path}"
   ]
  },
  {
   "cell_type": "markdown",
   "metadata": {},
   "source": [
    "# 4. Capture Images"
   ]
  },
  {
   "cell_type": "code",
   "execution_count": 5,
   "metadata": {},
   "outputs": [
    {
     "name": "stdout",
     "output_type": "stream",
     "text": [
      "Collecting images for thumbsup\n",
      "Collecting image 0\n",
      "Collecting image 1\n",
      "Collecting image 2\n",
      "Collecting image 3\n",
      "Collecting image 4\n",
      "Collecting image 5\n",
      "Collecting image 6\n",
      "Collecting image 7\n",
      "Collecting image 8\n",
      "Collecting image 9\n",
      "Collecting images for thumbsdown\n",
      "Collecting image 0\n",
      "Collecting image 1\n",
      "Collecting image 2\n",
      "Collecting image 3\n",
      "Collecting image 4\n",
      "Collecting image 5\n",
      "Collecting image 6\n",
      "Collecting image 7\n",
      "Collecting image 8\n",
      "Collecting image 9\n",
      "Collecting images for handheart\n",
      "Collecting image 0\n",
      "Collecting image 1\n",
      "Collecting image 2\n",
      "Collecting image 3\n",
      "Collecting image 4\n",
      "Collecting image 5\n",
      "Collecting image 6\n",
      "Collecting image 7\n",
      "Collecting image 8\n",
      "Collecting image 9\n",
      "Collecting images for ok\n",
      "Collecting image 0\n",
      "Collecting image 1\n",
      "Collecting image 2\n",
      "Collecting image 3\n",
      "Collecting image 4\n",
      "Collecting image 5\n",
      "Collecting image 6\n",
      "Collecting image 7\n",
      "Collecting image 8\n",
      "Collecting image 9\n"
     ]
    }
   ],
   "source": [
    "for label in labels:\n",
    "    cap = cv2.VideoCapture(0)   #connects to my webcam\n",
    "    print('Collecting images for {}'.format(label))\n",
    "    time.sleep(5)\n",
    "    for imgnum in range(number_imgs):\n",
    "        print('Collecting image {}'.format(imgnum))\n",
    "        ret, frame = cap.read()\n",
    "        imgname = os.path.join(IMAGES_PATH,label,label+'.'+'{}.jpg'.format(str(uuid.uuid1())))\n",
    "        cv2.imwrite(imgname, frame)\n",
    "        cv2.imshow('frame', frame)\n",
    "        time.sleep(2)\n",
    "\n",
    "        if cv2.waitKey(1) & 0xFF == ord('q'):\n",
    "            break\n",
    "cap.release()\n",
    "cv2.destroyAllWindows()"
   ]
  },
  {
   "cell_type": "code",
   "execution_count": 6,
   "metadata": {},
   "outputs": [
    {
     "name": "stderr",
     "output_type": "stream",
     "text": [
      "Cloning into 'Tensorflow\\labelimg'...\n"
     ]
    },
    {
     "name": "stdout",
     "output_type": "stream",
     "text": [
      "Image:C:\\Users\\husse\\OneDrive\\Documents\\Machine Learning(EEL4815)\\project\\TFOD\\Tensorflow\\workspace\\images\\collectedimages\\handheart\\handheart.1ba232bc-8e6b-11ee-9fcd-fefeb120120a.jpg -> Annotation:C:/Users/husse/OneDrive/Documents/Machine Learning(EEL4815)/project/TFOD/Tensorflow/workspace/images/collectedimages/handheart\\handheart.1ba232bc-8e6b-11ee-9fcd-fefeb120120a.xml\n",
      "Image:C:\\Users\\husse\\OneDrive\\Documents\\Machine Learning(EEL4815)\\project\\TFOD\\Tensorflow\\workspace\\images\\collectedimages\\handheart\\handheart.1cd6c58c-8e6b-11ee-adc3-fefeb120120a.jpg -> Annotation:C:/Users/husse/OneDrive/Documents/Machine Learning(EEL4815)/project/TFOD/Tensorflow/workspace/images/collectedimages/handheart\\handheart.1cd6c58c-8e6b-11ee-adc3-fefeb120120a.xml\n",
      "Image:C:\\Users\\husse\\OneDrive\\Documents\\Machine Learning(EEL4815)\\project\\TFOD\\Tensorflow\\workspace\\images\\collectedimages\\handheart\\handheart.1e0e5a33-8e6b-11ee-8ac5-fefeb120120a.jpg -> Annotation:C:/Users/husse/OneDrive/Documents/Machine Learning(EEL4815)/project/TFOD/Tensorflow/workspace/images/collectedimages/handheart\\handheart.1e0e5a33-8e6b-11ee-8ac5-fefeb120120a.xml\n",
      "Image:C:\\Users\\husse\\OneDrive\\Documents\\Machine Learning(EEL4815)\\project\\TFOD\\Tensorflow\\workspace\\images\\collectedimages\\handheart\\handheart.1f44b6cf-8e6b-11ee-8738-fefeb120120a.jpg -> Annotation:C:/Users/husse/OneDrive/Documents/Machine Learning(EEL4815)/project/TFOD/Tensorflow/workspace/images/collectedimages/handheart\\handheart.1f44b6cf-8e6b-11ee-8738-fefeb120120a.xml\n",
      "Image:C:\\Users\\husse\\OneDrive\\Documents\\Machine Learning(EEL4815)\\project\\TFOD\\Tensorflow\\workspace\\images\\collectedimages\\handheart\\handheart.21b25a58-8e6b-11ee-b302-fefeb120120a.jpg -> Annotation:C:/Users/husse/OneDrive/Documents/Machine Learning(EEL4815)/project/TFOD/Tensorflow/workspace/images/collectedimages/handheart\\handheart.21b25a58-8e6b-11ee-b302-fefeb120120a.xml\n",
      "Image:C:\\Users\\husse\\OneDrive\\Documents\\Machine Learning(EEL4815)\\project\\TFOD\\Tensorflow\\workspace\\images\\collectedimages\\handheart\\handheart.22e81916-8e6b-11ee-a43a-fefeb120120a.jpg -> Annotation:C:/Users/husse/OneDrive/Documents/Machine Learning(EEL4815)/project/TFOD/Tensorflow/workspace/images/collectedimages/handheart\\handheart.22e81916-8e6b-11ee-a43a-fefeb120120a.xml\n",
      "Image:C:\\Users\\husse\\OneDrive\\Documents\\Machine Learning(EEL4815)\\project\\TFOD\\Tensorflow\\workspace\\images\\collectedimages\\handheart\\handheart.268ccb50-8e6b-11ee-b45a-fefeb120120a.jpg -> Annotation:C:/Users/husse/OneDrive/Documents/Machine Learning(EEL4815)/project/TFOD/Tensorflow/workspace/images/collectedimages/handheart\\handheart.268ccb50-8e6b-11ee-b45a-fefeb120120a.xml\n",
      "Image:C:\\Users\\husse\\OneDrive\\Documents\\Machine Learning(EEL4815)\\project\\TFOD\\Tensorflow\\workspace\\images\\collectedimages\\handheart\\handheart.2556c9a0-8e6b-11ee-9ebc-fefeb120120a.jpg -> Annotation:C:/Users/husse/OneDrive/Documents/Machine Learning(EEL4815)/project/TFOD/Tensorflow/workspace/images/collectedimages/handheart\\handheart.2556c9a0-8e6b-11ee-9ebc-fefeb120120a.xml\n",
      "Image:C:\\Users\\husse\\OneDrive\\Documents\\Machine Learning(EEL4815)\\project\\TFOD\\Tensorflow\\workspace\\images\\collectedimages\\handheart\\handheart.241fac48-8e6b-11ee-bd1d-fefeb120120a.jpg -> Annotation:C:/Users/husse/OneDrive/Documents/Machine Learning(EEL4815)/project/TFOD/Tensorflow/workspace/images/collectedimages/handheart\\handheart.241fac48-8e6b-11ee-bd1d-fefeb120120a.xml\n",
      "Image:C:\\Users\\husse\\OneDrive\\Documents\\Machine Learning(EEL4815)\\project\\TFOD\\Tensorflow\\workspace\\images\\collectedimages\\ok\\ok.3a6247b5-8e6b-11ee-9ffd-fefeb120120a.jpg -> Annotation:C:/Users/husse/OneDrive/Documents/Machine Learning(EEL4815)/project/TFOD/Tensorflow/workspace/images/collectedimages/ok\\ok.3a6247b5-8e6b-11ee-9ffd-fefeb120120a.xml\n",
      "Image:C:\\Users\\husse\\OneDrive\\Documents\\Machine Learning(EEL4815)\\project\\TFOD\\Tensorflow\\workspace\\images\\collectedimages\\ok\\ok.3b9a2431-8e6b-11ee-9a54-fefeb120120a.jpg -> Annotation:C:/Users/husse/OneDrive/Documents/Machine Learning(EEL4815)/project/TFOD/Tensorflow/workspace/images/collectedimages/ok\\ok.3b9a2431-8e6b-11ee-9a54-fefeb120120a.xml\n",
      "Image:C:\\Users\\husse\\OneDrive\\Documents\\Machine Learning(EEL4815)\\project\\TFOD\\Tensorflow\\workspace\\images\\collectedimages\\ok\\ok.3cd06884-8e6b-11ee-8abc-fefeb120120a.jpg -> Annotation:C:/Users/husse/OneDrive/Documents/Machine Learning(EEL4815)/project/TFOD/Tensorflow/workspace/images/collectedimages/ok\\ok.3cd06884-8e6b-11ee-8abc-fefeb120120a.xml\n",
      "Image:C:\\Users\\husse\\OneDrive\\Documents\\Machine Learning(EEL4815)\\project\\TFOD\\Tensorflow\\workspace\\images\\collectedimages\\ok\\ok.3e067623-8e6b-11ee-ab17-fefeb120120a.jpg -> Annotation:C:/Users/husse/OneDrive/Documents/Machine Learning(EEL4815)/project/TFOD/Tensorflow/workspace/images/collectedimages/ok\\ok.3e067623-8e6b-11ee-ab17-fefeb120120a.xml\n",
      "Image:C:\\Users\\husse\\OneDrive\\Documents\\Machine Learning(EEL4815)\\project\\TFOD\\Tensorflow\\workspace\\images\\collectedimages\\ok\\ok.36bea7e9-8e6b-11ee-9977-fefeb120120a.jpg -> Annotation:C:/Users/husse/OneDrive/Documents/Machine Learning(EEL4815)/project/TFOD/Tensorflow/workspace/images/collectedimages/ok\\ok.36bea7e9-8e6b-11ee-9977-fefeb120120a.xml\n",
      "Image:C:\\Users\\husse\\OneDrive\\Documents\\Machine Learning(EEL4815)\\project\\TFOD\\Tensorflow\\workspace\\images\\collectedimages\\ok\\ok.37f40c0c-8e6b-11ee-9341-fefeb120120a.jpg -> Annotation:C:/Users/husse/OneDrive/Documents/Machine Learning(EEL4815)/project/TFOD/Tensorflow/workspace/images/collectedimages/ok\\ok.37f40c0c-8e6b-11ee-9341-fefeb120120a.xml\n",
      "Image:C:\\Users\\husse\\OneDrive\\Documents\\Machine Learning(EEL4815)\\project\\TFOD\\Tensorflow\\workspace\\images\\collectedimages\\ok\\ok.331cd6a1-8e6b-11ee-bb23-fefeb120120a.jpg -> Annotation:C:/Users/husse/OneDrive/Documents/Machine Learning(EEL4815)/project/TFOD/Tensorflow/workspace/images/collectedimages/ok\\ok.331cd6a1-8e6b-11ee-bb23-fefeb120120a.xml\n",
      "Image:C:\\Users\\husse\\OneDrive\\Documents\\Machine Learning(EEL4815)\\project\\TFOD\\Tensorflow\\workspace\\images\\collectedimages\\ok\\ok.392b98f8-8e6b-11ee-a6b3-fefeb120120a.jpg -> Annotation:C:/Users/husse/OneDrive/Documents/Machine Learning(EEL4815)/project/TFOD/Tensorflow/workspace/images/collectedimages/ok\\ok.392b98f8-8e6b-11ee-a6b3-fefeb120120a.xml\n",
      "Image:C:\\Users\\husse\\OneDrive\\Documents\\Machine Learning(EEL4815)\\project\\TFOD\\Tensorflow\\workspace\\images\\collectedimages\\ok\\ok.3450fc1f-8e6b-11ee-9b48-fefeb120120a.jpg -> Annotation:C:/Users/husse/OneDrive/Documents/Machine Learning(EEL4815)/project/TFOD/Tensorflow/workspace/images/collectedimages/ok\\ok.3450fc1f-8e6b-11ee-9b48-fefeb120120a.xml\n",
      "Image:C:\\Users\\husse\\OneDrive\\Documents\\Machine Learning(EEL4815)\\project\\TFOD\\Tensorflow\\workspace\\images\\collectedimages\\ok\\ok.3587b9dc-8e6b-11ee-8f52-fefeb120120a.jpg -> Annotation:C:/Users/husse/OneDrive/Documents/Machine Learning(EEL4815)/project/TFOD/Tensorflow/workspace/images/collectedimages/ok\\ok.3587b9dc-8e6b-11ee-8f52-fefeb120120a.xml\n",
      "Image:C:\\Users\\husse\\OneDrive\\Documents\\Machine Learning(EEL4815)\\project\\TFOD\\Tensorflow\\workspace\\images\\collectedimages\\thumbsdown\\thumbsdown.0a75b598-8e6b-11ee-b912-fefeb120120a.jpg -> Annotation:C:/Users/husse/OneDrive/Documents/Machine Learning(EEL4815)/project/TFOD/Tensorflow/workspace/images/collectedimages/thumbsdown\\thumbsdown.0a75b598-8e6b-11ee-b912-fefeb120120a.xml\n",
      "Image:C:\\Users\\husse\\OneDrive\\Documents\\Machine Learning(EEL4815)\\project\\TFOD\\Tensorflow\\workspace\\images\\collectedimages\\thumbsdown\\thumbsdown.0bace75c-8e6b-11ee-9696-fefeb120120a.jpg -> Annotation:C:/Users/husse/OneDrive/Documents/Machine Learning(EEL4815)/project/TFOD/Tensorflow/workspace/images/collectedimages/thumbsdown\\thumbsdown.0bace75c-8e6b-11ee-9696-fefeb120120a.xml\n",
      "Image:C:\\Users\\husse\\OneDrive\\Documents\\Machine Learning(EEL4815)\\project\\TFOD\\Tensorflow\\workspace\\images\\collectedimages\\thumbsdown\\thumbsdown.0ce356bd-8e6b-11ee-9dfd-fefeb120120a.jpg -> Annotation:C:/Users/husse/OneDrive/Documents/Machine Learning(EEL4815)/project/TFOD/Tensorflow/workspace/images/collectedimages/thumbsdown\\thumbsdown.0ce356bd-8e6b-11ee-9dfd-fefeb120120a.xml\n",
      "Image:C:\\Users\\husse\\OneDrive\\Documents\\Machine Learning(EEL4815)\\project\\TFOD\\Tensorflow\\workspace\\images\\collectedimages\\thumbsdown\\thumbsdown.0e1a8a40-8e6b-11ee-aac8-fefeb120120a.jpg -> Annotation:C:/Users/husse/OneDrive/Documents/Machine Learning(EEL4815)/project/TFOD/Tensorflow/workspace/images/collectedimages/thumbsdown\\thumbsdown.0e1a8a40-8e6b-11ee-aac8-fefeb120120a.xml\n",
      "Image:C:\\Users\\husse\\OneDrive\\Documents\\Machine Learning(EEL4815)\\project\\TFOD\\Tensorflow\\workspace\\images\\collectedimages\\thumbsdown\\thumbsdown.0f510fc1-8e6b-11ee-a94f-fefeb120120a.jpg -> Annotation:C:/Users/husse/OneDrive/Documents/Machine Learning(EEL4815)/project/TFOD/Tensorflow/workspace/images/collectedimages/thumbsdown\\thumbsdown.0f510fc1-8e6b-11ee-a94f-fefeb120120a.xml\n",
      "Image:C:\\Users\\husse\\OneDrive\\Documents\\Machine Learning(EEL4815)\\project\\TFOD\\Tensorflow\\workspace\\images\\collectedimages\\thumbsdown\\thumbsdown.06d2f905-8e6b-11ee-9aa4-fefeb120120a.jpg -> Annotation:C:/Users/husse/OneDrive/Documents/Machine Learning(EEL4815)/project/TFOD/Tensorflow/workspace/images/collectedimages/thumbsdown\\thumbsdown.06d2f905-8e6b-11ee-9aa4-fefeb120120a.xml\n",
      "Image:C:\\Users\\husse\\OneDrive\\Documents\\Machine Learning(EEL4815)\\project\\TFOD\\Tensorflow\\workspace\\images\\collectedimages\\thumbsdown\\thumbsdown.059cf2cc-8e6b-11ee-9141-fefeb120120a.jpg -> Annotation:C:/Users/husse/OneDrive/Documents/Machine Learning(EEL4815)/project/TFOD/Tensorflow/workspace/images/collectedimages/thumbsdown\\thumbsdown.059cf2cc-8e6b-11ee-9141-fefeb120120a.xml\n",
      "Image:C:\\Users\\husse\\OneDrive\\Documents\\Machine Learning(EEL4815)\\project\\TFOD\\Tensorflow\\workspace\\images\\collectedimages\\thumbsdown\\thumbsdown.093fd92d-8e6b-11ee-ac4b-fefeb120120a.jpg -> Annotation:C:/Users/husse/OneDrive/Documents/Machine Learning(EEL4815)/project/TFOD/Tensorflow/workspace/images/collectedimages/thumbsdown\\thumbsdown.093fd92d-8e6b-11ee-ac4b-fefeb120120a.xml\n",
      "Image:C:\\Users\\husse\\OneDrive\\Documents\\Machine Learning(EEL4815)\\project\\TFOD\\Tensorflow\\workspace\\images\\collectedimages\\thumbsdown\\thumbsdown.0468a6be-8e6b-11ee-ac5f-fefeb120120a.jpg -> Annotation:C:/Users/husse/OneDrive/Documents/Machine Learning(EEL4815)/project/TFOD/Tensorflow/workspace/images/collectedimages/thumbsdown\\thumbsdown.0468a6be-8e6b-11ee-ac5f-fefeb120120a.xml\n",
      "Image:C:\\Users\\husse\\OneDrive\\Documents\\Machine Learning(EEL4815)\\project\\TFOD\\Tensorflow\\workspace\\images\\collectedimages\\thumbsdown\\thumbsdown.08098dd4-8e6b-11ee-9022-fefeb120120a.jpg -> Annotation:C:/Users/husse/OneDrive/Documents/Machine Learning(EEL4815)/project/TFOD/Tensorflow/workspace/images/collectedimages/thumbsdown\\thumbsdown.08098dd4-8e6b-11ee-9022-fefeb120120a.xml\n",
      "Image:C:\\Users\\husse\\OneDrive\\Documents\\Machine Learning(EEL4815)\\project\\TFOD\\Tensorflow\\workspace\\images\\collectedimages\\thumbsup\\thumbsup.eda3fe6a-8e6a-11ee-8e76-fefeb120120a.jpg -> Annotation:C:/Users/husse/OneDrive/Documents/Machine Learning(EEL4815)/project/TFOD/Tensorflow/workspace/images/collectedimages/thumbsup\\thumbsup.eda3fe6a-8e6a-11ee-8e76-fefeb120120a.xml\n",
      "Image:C:\\Users\\husse\\OneDrive\\Documents\\Machine Learning(EEL4815)\\project\\TFOD\\Tensorflow\\workspace\\images\\collectedimages\\thumbsup\\thumbsup.eedbaa17-8e6a-11ee-a2c4-fefeb120120a.jpg -> Annotation:C:/Users/husse/OneDrive/Documents/Machine Learning(EEL4815)/project/TFOD/Tensorflow/workspace/images/collectedimages/thumbsup\\thumbsup.eedbaa17-8e6a-11ee-a2c4-fefeb120120a.xml\n",
      "Image:C:\\Users\\husse\\OneDrive\\Documents\\Machine Learning(EEL4815)\\project\\TFOD\\Tensorflow\\workspace\\images\\collectedimages\\thumbsup\\thumbsup.f3b5b29c-8e6a-11ee-8d80-fefeb120120a.jpg -> Annotation:C:/Users/husse/OneDrive/Documents/Machine Learning(EEL4815)/project/TFOD/Tensorflow/workspace/images/collectedimages/thumbsup\\thumbsup.f3b5b29c-8e6a-11ee-8d80-fefeb120120a.xml\n",
      "Image:C:\\Users\\husse\\OneDrive\\Documents\\Machine Learning(EEL4815)\\project\\TFOD\\Tensorflow\\workspace\\images\\collectedimages\\thumbsup\\thumbsup.f4eb9e8b-8e6a-11ee-a5bd-fefeb120120a.jpg -> Annotation:C:/Users/husse/OneDrive/Documents/Machine Learning(EEL4815)/project/TFOD/Tensorflow/workspace/images/collectedimages/thumbsup\\thumbsup.f4eb9e8b-8e6a-11ee-a5bd-fefeb120120a.xml\n",
      "Image:C:\\Users\\husse\\OneDrive\\Documents\\Machine Learning(EEL4815)\\project\\TFOD\\Tensorflow\\workspace\\images\\collectedimages\\thumbsup\\thumbsup.f27f0db9-8e6a-11ee-b67e-fefeb120120a.jpg -> Annotation:C:/Users/husse/OneDrive/Documents/Machine Learning(EEL4815)/project/TFOD/Tensorflow/workspace/images/collectedimages/thumbsup\\thumbsup.f27f0db9-8e6a-11ee-b67e-fefeb120120a.xml\n",
      "Cancel creation.\n",
      "Image:C:\\Users\\husse\\OneDrive\\Documents\\Machine Learning(EEL4815)\\project\\TFOD\\Tensorflow\\workspace\\images\\collectedimages\\thumbsup\\thumbsup.f88edba8-8e6a-11ee-a082-fefeb120120a.jpg -> Annotation:C:/Users/husse/OneDrive/Documents/Machine Learning(EEL4815)/project/TFOD/Tensorflow/workspace/images/collectedimages/thumbsup\\thumbsup.f88edba8-8e6a-11ee-a082-fefeb120120a.xml\n",
      "Image:C:\\Users\\husse\\OneDrive\\Documents\\Machine Learning(EEL4815)\\project\\TFOD\\Tensorflow\\workspace\\images\\collectedimages\\thumbsup\\thumbsup.f621b6a1-8e6a-11ee-bb11-fefeb120120a.jpg -> Annotation:C:/Users/husse/OneDrive/Documents/Machine Learning(EEL4815)/project/TFOD/Tensorflow/workspace/images/collectedimages/thumbsup\\thumbsup.f621b6a1-8e6a-11ee-bb11-fefeb120120a.xml\n",
      "Image:C:\\Users\\husse\\OneDrive\\Documents\\Machine Learning(EEL4815)\\project\\TFOD\\Tensorflow\\workspace\\images\\collectedimages\\thumbsup\\thumbsup.f7571f12-8e6a-11ee-bb8b-fefeb120120a.jpg -> Annotation:C:/Users/husse/OneDrive/Documents/Machine Learning(EEL4815)/project/TFOD/Tensorflow/workspace/images/collectedimages/thumbsup\\thumbsup.f7571f12-8e6a-11ee-bb8b-fefeb120120a.xml\n",
      "Image:C:\\Users\\husse\\OneDrive\\Documents\\Machine Learning(EEL4815)\\project\\TFOD\\Tensorflow\\workspace\\images\\collectedimages\\thumbsup\\thumbsup.f14780be-8e6a-11ee-9675-fefeb120120a.jpg -> Annotation:C:/Users/husse/OneDrive/Documents/Machine Learning(EEL4815)/project/TFOD/Tensorflow/workspace/images/collectedimages/thumbsup\\thumbsup.f14780be-8e6a-11ee-9675-fefeb120120a.xml\n",
      "Image:C:\\Users\\husse\\OneDrive\\Documents\\Machine Learning(EEL4815)\\project\\TFOD\\Tensorflow\\workspace\\images\\collectedimages\\thumbsup\\thumbsup.f0103633-8e6a-11ee-b302-fefeb120120a.jpg -> Annotation:C:/Users/husse/OneDrive/Documents/Machine Learning(EEL4815)/project/TFOD/Tensorflow/workspace/images/collectedimages/thumbsup\\thumbsup.f0103633-8e6a-11ee-b302-fefeb120120a.xml\n"
     ]
    }
   ],
   "source": [
    "LABELIMG_PATH = os.path.join('Tensorflow', 'labelimg')\n",
    "if not os.path.exists(LABELIMG_PATH):\n",
    "    !mkdir {LABELIMG_PATH}\n",
    "    !git clone https://github.com/tzutalin/labelImg {LABELIMG_PATH}\n",
    "if os.name =='nt':\n",
    "    !cd {LABELIMG_PATH} && pyrcc5 -o libs/resources.py resources.qrc\n",
    "!cd {LABELIMG_PATH} && python labelImg.py #opening labeling app"
   ]
  }
 ],
 "metadata": {
  "kernelspec": {
   "display_name": "projects",
   "language": "python",
   "name": "python3"
  },
  "language_info": {
   "codemirror_mode": {
    "name": "ipython",
    "version": 3
   },
   "file_extension": ".py",
   "mimetype": "text/x-python",
   "name": "python",
   "nbconvert_exporter": "python",
   "pygments_lexer": "ipython3",
   "version": "3.10.13"
  }
 },
 "nbformat": 4,
 "nbformat_minor": 2
}
